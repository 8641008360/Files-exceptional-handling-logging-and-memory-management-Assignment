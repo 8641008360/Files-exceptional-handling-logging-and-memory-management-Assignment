{
  "nbformat": 4,
  "nbformat_minor": 0,
  "metadata": {
    "colab": {
      "provenance": [],
      "collapsed_sections": [
        "dE9TDAYEJ2xA",
        "SsbQdz1TXPPw"
      ]
    },
    "kernelspec": {
      "name": "python3",
      "display_name": "Python 3"
    },
    "language_info": {
      "name": "python"
    }
  },
  "cells": [
    {
      "cell_type": "markdown",
      "source": [
        "# Theory Questions"
      ],
      "metadata": {
        "id": "dE9TDAYEJ2xA"
      }
    },
    {
      "cell_type": "markdown",
      "source": [
        "1. What is the difference between interpreted and compiled languages\n",
        "   - The main difference between interpreted and compiled languages lies in how the code is translated into machine-readable instructions:\n",
        "          Compiled Language\n",
        "\n",
        "          * Process: The entire program is translated (compiled) into machine code by a compiler before it runs.\n",
        "\n",
        "          Interpreted Language\n",
        "\n",
        "          * Process: Code is executed line by line by an interpreter at runtime.\n",
        "\n",
        "2. What is exception handling in Python?\n",
        "   - Exception handling in Python is a way to manage errors or unexpected situations that occur during the execution of a program without crashing it.\n",
        "\n",
        "3. What is the purpose of the finally block in exception handling\n",
        "   - Purpose of finally\n",
        "\n",
        "      * Ensures that important final steps (like closing files, releasing resources, or disconnecting from a database) always run.\n",
        "\n",
        "      * Runs after the try and any except or else blocks, regardless of whether an exception was raised or caught.\n",
        "\n",
        "4. What is logging in Python\n",
        "   - Logging in Python is a way to track events that happen while a program runs. It’s mainly used for debugging, monitoring, and recording errors in a more flexible and professional way than just using print()\n",
        "\n",
        "5. What is the significance of the __del__ method in Python?\n",
        "   - The __del__ method in Python is a destructor—a special method that is called when an object is about to be destroyed (i.e., when it is garbage collected).\n",
        "\n",
        "6. What is the difference between import and from ... import in Python?\n",
        "   - The difference between import and from ... import in Python is mainly about how you access names (functions, classes, variables) from a module.\n",
        "\n",
        "7. How can you handle multiple exceptions in Python?\n",
        "   -  \n",
        "     * Handle Different Exceptions Separately\n",
        "     * Handle Multiple Exceptions in One Block\n",
        "     * Catch All Exceptions (Not Recommended Unless Necessary)\n",
        "\n",
        "8. What is the purpose of the with statement when handling files in Python?\n",
        "   - Purpose of with Statement for Files\n",
        "      * Ensures that the file is closed automatically, no matter what.\n",
        "      * Makes the code cleaner and less error-prone.\n",
        "      * Eliminates the need for manually calling file.close().\n",
        "\n",
        "9. What is the difference between multithreading and multiprocessing?\n",
        "   -  Multithreading\n",
        "      * Uses multiple threads within a single process.\n",
        "      * Threads share the same memory space.\n",
        "      * Best for I/O-bound tasks (e.g., reading files, network calls).\n",
        "\n",
        "      Multiprocessing\n",
        "      * Uses multiple processes, each with its own memory space.\n",
        "      * Avoids the GIL, so true parallelism is possible.\n",
        "      * Best for CPU-bound tasks (e.g., heavy computation).\n",
        "\n",
        "10. What are the advantages of using logging in a program?\n",
        "    - advantages of using logging in a program\n",
        "      * Debugging and Troubleshooting\n",
        "      * Monitoring and Maintenance\n",
        "      * Auditing and Security\n",
        "\n",
        "11. What is memory management in Python?\n",
        "    - Memory management in Python refers to the process of efficiently allocating and deallocating memory to ensure that the program runs effectively and doesn't waste resources. Python’s memory management system handles the allocation of memory for objects and their variables and manages the cleaning up of unused objects when they are no longer needed.\n",
        "\n",
        "12. What are the basic steps involved in exception handling in Python?\n",
        "    - basic steps are follows -\n",
        "      * try Block\n",
        "      * except Block\n",
        "      * else Block  etc..\n",
        "\n",
        "13. Why is memory management important in Python?\n",
        "    - Here are the key reasons why memory management is important in Python\n",
        "      * Efficient Resource Utilization\n",
        "      * Handling Large Datasets\n",
        "      * Improved Performance\n",
        "\n",
        "14. What is the role of try and except in exception handling?\n",
        "    - The try and except blocks in Python are essential components of exception handling, allowing you to manage errors (exceptions) that may occur during the execution of a program.\n",
        "\n",
        "15. How does Python's garbage collection system work?\n",
        "    - Python's garbage collection system is responsible for automatically managing memory by reclaiming unused or unreferenced memory to prevent memory leaks. This system ensures that memory is efficiently used and prevents the program from running out of resources.\n",
        "\n",
        "16. What is the purpose of the else block in exception handling?\n",
        "    - Purpose of the else Block\n",
        "      * Runs Only When No Exception Occurs\n",
        "      * Separates Normal Flow from Error Handling\n",
        "      * Optimizes Performance\n",
        "\n",
        "17. What are the common logging levels in Python?\n",
        "    - Here are the common logging levels in Python\n",
        "      * DEBUG (Level 10)\n",
        "      * INFO (Level 20)\n",
        "      * WARNING (Level 30)\n",
        "\n",
        "18. What is the difference between os.fork() and multiprocessing in Python?\n",
        "    - os.fork()\n",
        "\n",
        "      * os.fork() is a low-level function that is available in Unix-like operating systems (e.g., Linux, macOS). It creates a new child process by duplicating the parent process. After calling fork(), the execution continues in both the parent process and the child process, but each has its own memory space.\n",
        "\n",
        "       multiprocessing Module\n",
        "\n",
        "       * The multiprocessing module is a higher-level abstraction in Python that provides a simple and portable way to create parallel processes. It is a part of Python's standard library and works on both Unix and Windows systems.\n",
        "\n",
        "19. What is the importance of closing a file in Python?\n",
        "    - Here are the key reasons why closing a file is important:\n",
        "\n",
        "      * Releasing System Resources\n",
        "      * Ensuring Data is Written to the File\n",
        "      * Preventing File Corruption\n",
        "\n",
        "20. What is the difference between file.read() and file.readline() in Python?\n",
        "    - file.read()\n",
        "      * Purpose: The read() method reads the entire content of the file as a single string.\n",
        "\n",
        "      file.readline()\n",
        "      * Purpose: The readline() method reads a single line from the file.\n",
        "\n",
        "21. What is the logging module in Python used for?\n",
        "    - The logging module in Python is used for recording log messages from your program. It provides a flexible framework for developers to log information, warnings, errors, and other relevant details about the execution of their program.\n",
        "\n",
        "22. What is the os module in Python used for in file handling?\n",
        "    - The os module in Python is a built-in module that provides a way to interact with the operating system and perform operations related to file handling and system-level tasks. Specifically, when it comes to file handling, the os module helps with file and directory manipulation, access, and management.\n",
        "\n",
        "23. What are the challenges associated with memory management in Python?\n",
        "    - Challenges Associated with Memory Management in Python\n",
        "       * Memory Leaks\n",
        "       * Circular References\n",
        "       * Overhead of Automatic Garbage Collection:\n",
        "\n",
        "24. How do you raise an exception manually in Python?\n",
        "    - Steps to Raise an Exception Manually\n",
        "       * Use the raise keyword followed by the type of exception you want to raise.\n",
        "       * Optionally, provide an error message or any additional information about the exception.\n",
        "       * You can also raise a custom exception (if needed) by defining a class that inherits from the base Exception class.\n",
        "\n",
        "25. Why is it important to use multithreading in certain applications?\n",
        "    - Key Reasons Why Multithreading is Important\n",
        "       * Improved Application Responsiveness:\n",
        "       * Concurrency and Parallelism:\n",
        "       * Better Resource Utilization:\n",
        "       "
      ],
      "metadata": {
        "id": "paxvavVEJ-x2"
      }
    },
    {
      "cell_type": "markdown",
      "source": [
        "# Practical Questions"
      ],
      "metadata": {
        "id": "SsbQdz1TXPPw"
      }
    },
    {
      "cell_type": "code",
      "source": [
        "#1\n",
        "\n",
        "# Open the file in write mode ('w')\n",
        "with open('example.txt', 'w') as file:\n",
        "    # Write a string to the file\n",
        "    file.write(\"Hello, this is a test string.\")\n"
      ],
      "metadata": {
        "id": "jCXAEj1iXR49"
      },
      "execution_count": 1,
      "outputs": []
    },
    {
      "cell_type": "code",
      "source": [
        "#2\n",
        "\n",
        "# Open the file in read mode ('r')\n",
        "with open('example.txt', 'r') as file:\n",
        "    # Read each line in the file\n",
        "    for line in file:\n",
        "        # Print each line\n",
        "        print(line.strip())  # strip() removes leading/trailing whitespaces including newlines\n"
      ],
      "metadata": {
        "colab": {
          "base_uri": "https://localhost:8080/"
        },
        "id": "VSWan4bYZck3",
        "outputId": "8ec6b2fd-edba-4ad2-d76f-54489c3afacf"
      },
      "execution_count": 2,
      "outputs": [
        {
          "output_type": "stream",
          "name": "stdout",
          "text": [
            "Hello, this is a test string.\n"
          ]
        }
      ]
    },
    {
      "cell_type": "code",
      "source": [
        "#3\n",
        "\n",
        "try:\n",
        "    # Try to open the file in read mode ('r')\n",
        "    with open('example.txt', 'r') as file:\n",
        "        # Read and print each line of the file\n",
        "        for line in file:\n",
        "            print(line.strip())  # strip() removes leading/trailing whitespace\n",
        "except FileNotFoundError:\n",
        "    # Handle the case where the file doesn't exist\n",
        "    print(\"The file 'example.txt' does not exist.\")\n"
      ],
      "metadata": {
        "colab": {
          "base_uri": "https://localhost:8080/"
        },
        "id": "2Vt8bgAXZk9X",
        "outputId": "681ffe4b-d23d-48e6-84c8-5622ece37766"
      },
      "execution_count": 3,
      "outputs": [
        {
          "output_type": "stream",
          "name": "stdout",
          "text": [
            "Hello, this is a test string.\n"
          ]
        }
      ]
    },
    {
      "cell_type": "code",
      "source": [
        "#5\n",
        "\n",
        "try:\n",
        "    # Code that may raise a division by zero error\n",
        "    numerator = 10\n",
        "    denominator = 0\n",
        "    result = numerator / denominator\n",
        "    print(\"The result is:\", result)\n",
        "\n",
        "except ZeroDivisionError:\n",
        "    # Handle the division by zero error\n",
        "    print(\"Error: Cannot divide by zero.\")\n"
      ],
      "metadata": {
        "colab": {
          "base_uri": "https://localhost:8080/"
        },
        "id": "PyZyDOB2bnV4",
        "outputId": "cd5c67af-ccba-44d8-efa0-c31a0f6d955c"
      },
      "execution_count": 28,
      "outputs": [
        {
          "output_type": "stream",
          "name": "stdout",
          "text": [
            "Error: Cannot divide by zero.\n"
          ]
        }
      ]
    },
    {
      "cell_type": "code",
      "source": [
        "#6\n",
        "\n",
        "import logging\n",
        "\n",
        "# Set up logging configuration\n",
        "logging.basicConfig(filename='error_log.txt', level=logging.ERROR, format='%(asctime)s - %(levelname)s - %(message)s')\n",
        "\n",
        "try:\n",
        "    # Code that may raise a division by zero error\n",
        "    numerator = 10\n",
        "    denominator = 0\n",
        "    result = numerator / denominator\n",
        "    print(\"The result is:\", result)\n",
        "\n",
        "except ZeroDivisionError as e:\n",
        "    # Log the error message when a division by zero occurs\n",
        "    logging.error(\"Attempted to divide by zero: %s\", e)\n",
        "    print(\"Error: Cannot divide by zero. The error has been logged.\")\n"
      ],
      "metadata": {
        "colab": {
          "base_uri": "https://localhost:8080/"
        },
        "id": "xmvIvZ0-b6nP",
        "outputId": "cf8ad181-2d94-4b2d-b963-7f3cc4050461"
      },
      "execution_count": 29,
      "outputs": [
        {
          "output_type": "stream",
          "name": "stderr",
          "text": [
            "ERROR:root:Attempted to divide by zero: division by zero\n"
          ]
        },
        {
          "output_type": "stream",
          "name": "stdout",
          "text": [
            "Error: Cannot divide by zero. The error has been logged.\n"
          ]
        }
      ]
    },
    {
      "cell_type": "code",
      "source": [
        "#7\n",
        "\n",
        "import logging\n",
        "\n",
        "# Set up logging configuration\n",
        "logging.basicConfig(filename='app.log',\n",
        "                    level=logging.DEBUG,  # Set the logging level to DEBUG (captures all levels)\n",
        "                    format='%(asctime)s - %(levelname)s - %(message)s')\n",
        "\n",
        "# Log messages at different levels\n",
        "\n",
        "# Debug level (detailed information for debugging purposes)\n",
        "logging.debug(\"This is a debug message\")\n",
        "\n",
        "# Info level (general information about the program's execution)\n",
        "logging.info(\"This is an info message\")\n",
        "\n",
        "# Warning level (an unexpected event, but the program is still running fine)\n",
        "logging.warning(\"This is a warning message\")\n",
        "\n",
        "# Error level (an error that prevents a function from working)\n",
        "logging.error(\"This is an error message\")\n",
        "\n",
        "# Critical level (a serious error, the program might be unable to continue)\n",
        "logging.critical(\"This is a critical error message\")\n"
      ],
      "metadata": {
        "colab": {
          "base_uri": "https://localhost:8080/"
        },
        "id": "l9Qzkw3YcAT4",
        "outputId": "d6822025-6fb3-445b-f54b-a3316e56bd13"
      },
      "execution_count": 30,
      "outputs": [
        {
          "output_type": "stream",
          "name": "stderr",
          "text": [
            "WARNING:root:This is a warning message\n",
            "ERROR:root:This is an error message\n",
            "CRITICAL:root:This is a critical error message\n"
          ]
        }
      ]
    },
    {
      "cell_type": "code",
      "source": [
        "#8\n",
        "\n",
        "try:\n",
        "    # Attempt to open a file (change 'file.txt' to an actual file path for testing)\n",
        "    with open('file.txt', 'r') as file:\n",
        "        content = file.read()\n",
        "        print(content)\n",
        "\n",
        "except FileNotFoundError:\n",
        "    print(\"Error: The file was not found. Please check the file name and path.\")\n",
        "\n",
        "except PermissionError:\n",
        "    print(\"Error: Permission denied. You do not have permission to open the file.\")\n",
        "\n",
        "except Exception as e:\n",
        "    # Catch any other unexpected errors\n",
        "    print(f\"An unexpected error occurred: {e}\")\n"
      ],
      "metadata": {
        "colab": {
          "base_uri": "https://localhost:8080/"
        },
        "id": "_-EGwBc6ewqR",
        "outputId": "7bd6213f-51b8-48e0-8522-601d177cc3d8"
      },
      "execution_count": 31,
      "outputs": [
        {
          "output_type": "stream",
          "name": "stdout",
          "text": [
            "Error: The file was not found. Please check the file name and path.\n"
          ]
        }
      ]
    },
    {
      "cell_type": "code",
      "source": [
        "#9\n",
        "\n",
        "# Open the file in read mode ('r')\n",
        "with open('file.txt', 'r') as file:\n",
        "    # Read each line from the file and store it in a list\n",
        "    lines = file.readlines()\n",
        "\n",
        "# Remove newline characters from each line and store the cleaned lines in a list\n",
        "lines = [line.strip() for line in lines]\n",
        "\n",
        "# Print the list of lines\n",
        "print(lines)\n"
      ],
      "metadata": {
        "id": "6e7brAowfh5b"
      },
      "execution_count": null,
      "outputs": []
    },
    {
      "cell_type": "code",
      "source": [
        "#10\n",
        "\n",
        "# Open the file in append mode ('a')\n",
        "with open('file.txt', 'a') as file:\n",
        "    # Append data to the file\n",
        "    file.write(\"This is a new line of text that will be appended.\\n\")\n",
        "\n",
        "print(\"Data has been appended to the file.\")\n"
      ],
      "metadata": {
        "colab": {
          "base_uri": "https://localhost:8080/"
        },
        "id": "D8rhblrnfkNz",
        "outputId": "168d15c9-9e77-47f6-a3be-82ef6ff6813c"
      },
      "execution_count": 36,
      "outputs": [
        {
          "output_type": "stream",
          "name": "stdout",
          "text": [
            "Data has been appended to the file.\n"
          ]
        }
      ]
    },
    {
      "cell_type": "code",
      "source": [
        "#11\n",
        "\n",
        "# Sample dictionary\n",
        "my_dict = {\n",
        "    'name': 'John',\n",
        "    'age': 25,\n",
        "    'city': 'New York'\n",
        "}\n",
        "\n",
        "# Key to access in the dictionary\n",
        "key_to_access = 'email'\n",
        "\n",
        "try:\n",
        "    # Attempt to access the dictionary with the given key\n",
        "    value = my_dict[key_to_access]\n",
        "    print(f\"The value for '{key_to_access}' is: {value}\")\n",
        "\n",
        "except KeyError:\n",
        "    # Handle the error if the key doesn't exist\n",
        "    print(f\"Error: The key '{key_to_access}' does not exist in the dictionary.\")\n"
      ],
      "metadata": {
        "colab": {
          "base_uri": "https://localhost:8080/"
        },
        "id": "JF-yqhZSfrTR",
        "outputId": "1eb72a41-5c68-46f2-fbf3-f3170cf6d38a"
      },
      "execution_count": 37,
      "outputs": [
        {
          "output_type": "stream",
          "name": "stdout",
          "text": [
            "Error: The key 'email' does not exist in the dictionary.\n"
          ]
        }
      ]
    },
    {
      "cell_type": "code",
      "source": [
        "#12\n",
        "\n",
        "try:\n",
        "    # Taking user input for a number\n",
        "    user_input = input(\"Enter a number: \")\n",
        "\n",
        "    # Trying to convert the user input to an integer\n",
        "    number = int(user_input)\n",
        "\n",
        "    # Trying to perform a division\n",
        "    result = 10 / number\n",
        "    print(f\"10 divided by {number} gives {result}\")\n",
        "\n",
        "except ValueError:\n",
        "    # Handles the case when the input is not a valid number\n",
        "    print(\"Error: Invalid input! Please enter a valid integer.\")\n",
        "\n",
        "except ZeroDivisionError:\n",
        "    # Handles the case when the user tries to divide by zero\n",
        "    print(\"Error: Division by zero is not allowed.\")\n",
        "\n",
        "except Exception as e:\n",
        "    # Catches any other unexpected exception\n",
        "    print(f\"An unexpected error occurred: {e}\")\n"
      ],
      "metadata": {
        "colab": {
          "base_uri": "https://localhost:8080/"
        },
        "id": "rzQuf-WAf6tp",
        "outputId": "2fef0854-98eb-4c0b-cecc-13eb524c55ba"
      },
      "execution_count": 38,
      "outputs": [
        {
          "output_type": "stream",
          "name": "stdout",
          "text": [
            "Enter a number: 10\n",
            "10 divided by 10 gives 1.0\n"
          ]
        }
      ]
    },
    {
      "cell_type": "code",
      "source": [
        "#13\n",
        "\n",
        "import os\n",
        "\n",
        "# Define the file path\n",
        "file_path = 'file.txt'\n",
        "\n",
        "# Check if the file exists before attempting to open it\n",
        "if os.path.exists(file_path):\n",
        "    with open(file_path, 'r') as file:\n",
        "        content = file.read()\n",
        "        print(content)\n",
        "else:\n",
        "    print(f\"Error: The file '{file_path}' does not exist.\")\n"
      ],
      "metadata": {
        "colab": {
          "base_uri": "https://localhost:8080/"
        },
        "id": "ABrvy4bqgAua",
        "outputId": "74096f73-4201-4877-e3ab-98201787c749"
      },
      "execution_count": 39,
      "outputs": [
        {
          "output_type": "stream",
          "name": "stdout",
          "text": [
            "This is a new line of text that will be appended.\n",
            "\n"
          ]
        }
      ]
    },
    {
      "cell_type": "code",
      "source": [
        "#14\n",
        "\n",
        "import logging\n",
        "\n",
        "# Set up logging configuration\n",
        "logging.basicConfig(\n",
        "    filename='app.log',  # Log messages will be written to 'app.log'\n",
        "    level=logging.DEBUG,  # Log all messages at DEBUG level and above\n",
        "    format='%(asctime)s - %(levelname)s - %(message)s',  # Log format\n",
        ")\n",
        "\n",
        "# Log an informational message\n",
        "logging.info('This is an informational message.')\n",
        "\n",
        "# Log\n"
      ],
      "metadata": {
        "id": "gvy5pbiogJwC"
      },
      "execution_count": 40,
      "outputs": []
    },
    {
      "cell_type": "code",
      "source": [
        "#15\n",
        "\n",
        "# Function to read and print file content\n",
        "def print_file_content(file_path):\n",
        "    try:\n",
        "        # Open the file in read mode\n",
        "        with open(file_path, 'r') as file:\n",
        "            content = file.read()\n",
        "\n",
        "            # Check if the file is empty\n",
        "            if not content:\n",
        "                print(f\"The file '{file_path}' is empty.\")\n",
        "            else:\n",
        "                print(f\"Content of the file '{file_path}':\\n{content}\")\n",
        "\n",
        "    except FileNotFoundError:\n",
        "        # Handle the case when the file doesn't exist\n",
        "        print(f\"Error: The file '{file_path}' does not exist.\")\n",
        "    except Exception as e:\n",
        "        # Handle any other exceptions\n",
        "        print(f\"An unexpected error occurred: {e}\")\n",
        "\n",
        "# Example usage\n",
        "file_path = 'example_file.txt'  # Change this to the path\n"
      ],
      "metadata": {
        "id": "V7WUUc1OgOUS"
      },
      "execution_count": 41,
      "outputs": []
    },
    {
      "cell_type": "code",
      "source": [
        "#17\n",
        "\n",
        "# Define a list of numbers\n",
        "numbers = [1, 2, 3, 4, 5, 6, 7, 8, 9, 10]\n",
        "\n",
        "# Open a file in write mode\n",
        "with open('numbers.txt', 'w') as file:\n",
        "    # Write each number to the file, one per line\n",
        "    for number in numbers:\n",
        "        file.write(f\"{number}\\n\")\n",
        "\n",
        "print(\"Numbers have been written to 'numbers.txt'.\")\n"
      ],
      "metadata": {
        "colab": {
          "base_uri": "https://localhost:8080/"
        },
        "id": "EUXkgAXbgoQq",
        "outputId": "4502c1e7-92cc-4248-c946-93d667388995"
      },
      "execution_count": 45,
      "outputs": [
        {
          "output_type": "stream",
          "name": "stdout",
          "text": [
            "Numbers have been written to 'numbers.txt'.\n"
          ]
        }
      ]
    },
    {
      "cell_type": "code",
      "source": [
        "#18\n",
        "\n",
        "import logging\n",
        "from logging.handlers import RotatingFileHandler\n",
        "\n",
        "# Set up the log file handler with rotation after 1MB\n",
        "log_handler = RotatingFileHandler('app.log', maxBytes=1e6, backupCount=3)  # 1MB = 1e6 bytes\n",
        "log_handler.setLevel(logging.INFO)\n",
        "\n",
        "# Create a formatter for the log messages\n",
        "log_formatter = logging.Formatter('%(asctime)s - %(levelname)s - %(message)s')\n",
        "\n",
        "# Attach the formatter to the handler\n",
        "log_handler.setFormatter(log_formatter)\n",
        "\n",
        "# Create a logger\n",
        "logger = logging.getLogger()\n",
        "logger.setLevel(logging.INFO)  # Log level set to INFO\n",
        "\n",
        "# Add the handler to the logger\n",
        "logger.addHandler(log_handler)\n",
        "\n",
        "# Example log messages\n",
        "logger.info(\"This is an info message.\")\n",
        "logger.error(\"This is an error message.\")\n",
        "logger.warning(\"This is a warning message.\")\n"
      ],
      "metadata": {
        "colab": {
          "base_uri": "https://localhost:8080/"
        },
        "id": "3n9NskFthCPa",
        "outputId": "1c33cbab-6aec-4b52-dcbe-1b99933a90b2"
      },
      "execution_count": 46,
      "outputs": [
        {
          "output_type": "stream",
          "name": "stderr",
          "text": [
            "INFO:root:This is an info message.\n",
            "ERROR:root:This is an error message.\n",
            "WARNING:root:This is a warning message.\n"
          ]
        }
      ]
    },
    {
      "cell_type": "code",
      "source": [
        "#19\n",
        "\n",
        "# Sample data\n",
        "my_list = [1, 2, 3]\n",
        "my_dict = {'a': 1, 'b': 2, 'c': 3}\n",
        "\n",
        "# Try block to handle both IndexError and KeyError\n",
        "try:\n",
        "    # Example that might raise IndexError\n",
        "    print(my_list[5])  # This will raise IndexError\n",
        "\n",
        "    # Example that might raise KeyError\n",
        "    print(my_dict['d'])  # This will raise KeyError\n",
        "\n",
        "except IndexError as ie:\n",
        "    print(f\"IndexError: {ie} - List index is out of range.\")\n",
        "\n",
        "except KeyError as ke:\n",
        "    print(f\"KeyError: {ke} - Key not found in the dictionary.\")\n"
      ],
      "metadata": {
        "colab": {
          "base_uri": "https://localhost:8080/"
        },
        "id": "Ccuml6RghLzD",
        "outputId": "c23b57c8-c644-47c2-992b-785a2d4bf04c"
      },
      "execution_count": 47,
      "outputs": [
        {
          "output_type": "stream",
          "name": "stdout",
          "text": [
            "IndexError: list index out of range - List index is out of range.\n"
          ]
        }
      ]
    },
    {
      "cell_type": "code",
      "source": [
        "#20\n",
        "\n",
        "# Using a context manager to open and read a file\n",
        "file_path = 'example.txt'  # Replace with your file path\n",
        "\n",
        "# Open the file using the 'with' statement\n",
        "with open(file_path, 'r') as file:\n",
        "    # Read the contents of the file\n",
        "    content = file.read()\n",
        "\n",
        "# Print the content\n",
        "print(content)\n"
      ],
      "metadata": {
        "colab": {
          "base_uri": "https://localhost:8080/"
        },
        "id": "bmn5zMGghXuS",
        "outputId": "2bd86a68-63ca-4ad6-c74c-ca3193c6fca1"
      },
      "execution_count": 48,
      "outputs": [
        {
          "output_type": "stream",
          "name": "stdout",
          "text": [
            "Hello, this is a test string.\n"
          ]
        }
      ]
    },
    {
      "cell_type": "code",
      "source": [
        "#21\n",
        "\n",
        "def count_word_in_file(file_path, word_to_count):\n",
        "    # Open the file using a context manager\n",
        "    with open(file_path, 'r') as file:\n",
        "        # Read the contents of the file\n",
        "        content = file.read()\n",
        "\n",
        "    # Count the occurrences of the word\n",
        "    word_count = content.lower().split().count(word_to_count.lower())\n",
        "\n",
        "    return word_count\n",
        "\n",
        "# Example usage\n",
        "file_path = 'example.txt'  # Replace with your file path\n",
        "word_to_count = 'python'   # Replace with the word you want to count\n",
        "\n",
        "count = count_word_in_file(file_path, word_to_count)\n",
        "\n",
        "print(f\"The word '{word_to_count}' appears {count} times in the file.\")\n"
      ],
      "metadata": {
        "colab": {
          "base_uri": "https://localhost:8080/"
        },
        "id": "jk8gVNKuhggL",
        "outputId": "12b8ccc0-2941-4755-8a0e-63a6c8969757"
      },
      "execution_count": 49,
      "outputs": [
        {
          "output_type": "stream",
          "name": "stdout",
          "text": [
            "The word 'python' appears 0 times in the file.\n"
          ]
        }
      ]
    },
    {
      "cell_type": "code",
      "source": [
        "#22\n",
        "\n",
        "import os\n",
        "\n",
        "def is_file_empty(file_path):\n",
        "    # Get the file statistics\n",
        "    file_stats = os.stat(file_path)\n",
        "    # Check if the file size is zero\n",
        "    return file_stats.st_size == 0\n",
        "\n",
        "file_path = 'example.txt'  # Replace with your file path\n",
        "\n",
        "if is_file_empty(file_path):\n",
        "    print(f\"The file '{file_path}' is empty.\")\n",
        "else:\n",
        "    with open(file_path, 'r') as file:\n",
        "        content = file.read()\n",
        "        print(f\"File content:\\n{content}\")\n"
      ],
      "metadata": {
        "colab": {
          "base_uri": "https://localhost:8080/"
        },
        "id": "gm5ST55Nhl2j",
        "outputId": "4034f3a9-9bb0-45d7-d31b-21971cc05dfd"
      },
      "execution_count": 50,
      "outputs": [
        {
          "output_type": "stream",
          "name": "stdout",
          "text": [
            "File content:\n",
            "Hello, this is a test string.\n"
          ]
        }
      ]
    },
    {
      "cell_type": "code",
      "source": [
        "#23\n",
        "\n",
        "import logging\n",
        "\n",
        "# Set up the logging configuration\n",
        "logging.basicConfig(\n",
        "    filename='error_log.log',  # Log file name\n",
        "    level=logging.ERROR,  # Log only error messages and above\n",
        "    format='%(asctime)s - %(levelname)s - %(message)s'\n",
        ")\n",
        "\n",
        "def read_file(file_path):\n",
        "    try:\n",
        "        # Try to open and read the file\n",
        "        with open(file_path, 'r') as file:\n",
        "            content = file.read()\n",
        "            print(content)  # Print the content of the file\n",
        "    except FileNotFoundError as e:\n",
        "        # Log error if the file is not found\n",
        "        logging.error(f\"FileNotFoundError: {e}\")\n",
        "        print(f\"Error: {e}\")\n",
        "    except PermissionError as e:\n",
        "        # Log error if there is a permission issue\n",
        "        logging.error(f\"PermissionError: {e}\")\n",
        "        print(f\"Error: {e}\")\n",
        "    except Exception as e:\n",
        "        # Catch any other exceptions and log them\n",
        "        logging.error(f\"Unexpected error: {e}\")\n",
        "        print(f\"An unexpected error occurred: {e}\")\n",
        "\n",
        "# Example usage\n",
        "file_path = 'non_existent_file.txt'  # Replace with your file path\n",
        "read_file(file_path)\n"
      ],
      "metadata": {
        "colab": {
          "base_uri": "https://localhost:8080/"
        },
        "id": "fm5_7BWNh0Ob",
        "outputId": "6f8f7140-3050-4571-8875-bc4bae9e88a8"
      },
      "execution_count": 51,
      "outputs": [
        {
          "output_type": "stream",
          "name": "stderr",
          "text": [
            "ERROR:root:FileNotFoundError: [Errno 2] No such file or directory: 'non_existent_file.txt'\n"
          ]
        },
        {
          "output_type": "stream",
          "name": "stdout",
          "text": [
            "Error: [Errno 2] No such file or directory: 'non_existent_file.txt'\n"
          ]
        }
      ]
    }
  ]
}